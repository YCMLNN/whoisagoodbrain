{
 "cells": [
  {
   "cell_type": "code",
   "execution_count": 2,
   "metadata": {},
   "outputs": [
    {
     "name": "stdout",
     "output_type": "stream",
     "text": [
      "UELLA!\n"
     ]
    }
   ],
   "source": [
    "print(\"UELLA!\")"
   ]
  },
  {
   "cell_type": "code",
   "execution_count": 3,
   "metadata": {},
   "outputs": [
    {
     "data": {
      "text/plain": [
       "{'__name__': '__main__',\n",
       " '__doc__': 'Automatically created module for IPython interactive environment',\n",
       " '__package__': None,\n",
       " '__loader__': None,\n",
       " '__spec__': None,\n",
       " '__builtin__': <module 'builtins' (built-in)>,\n",
       " '__builtins__': <module 'builtins' (built-in)>,\n",
       " '_ih': ['', 'print(\"UELLA!\")', 'print(\"UELLA!\")', 'globals()'],\n",
       " '_oh': {},\n",
       " '_dh': [WindowsPath('c:/Users/YCML/Desktop/MMPanel/paradam/spot'),\n",
       "  WindowsPath('c:/Users/YCML/Desktop/MMPanel/paradam/spot')],\n",
       " 'In': ['', 'print(\"UELLA!\")', 'print(\"UELLA!\")', 'globals()'],\n",
       " 'Out': {},\n",
       " 'get_ipython': <bound method InteractiveShell.get_ipython of <ipykernel.zmqshell.ZMQInteractiveShell object at 0x000001F13FEB4EE0>>,\n",
       " 'exit': <IPython.core.autocall.ZMQExitAutocall at 0x1f13feb5900>,\n",
       " 'quit': <IPython.core.autocall.ZMQExitAutocall at 0x1f13feb5900>,\n",
       " 'open': <function io.open(file, mode='r', buffering=-1, encoding=None, errors=None, newline=None, closefd=True, opener=None)>,\n",
       " '_': '',\n",
       " '__': '',\n",
       " '___': '',\n",
       " '__vsc_ipynb_file__': 'c:\\\\Users\\\\YCML\\\\Desktop\\\\MMPanel\\\\paradam\\\\spot\\\\main.ipynb',\n",
       " '_i': 'print(\"UELLA!\")',\n",
       " '_ii': 'print(\"UELLA!\")',\n",
       " '_iii': '',\n",
       " '_i1': 'print(\"UELLA!\")',\n",
       " '_i2': 'print(\"UELLA!\")',\n",
       " '_i3': 'globals()'}"
      ]
     },
     "execution_count": 3,
     "metadata": {},
     "output_type": "execute_result"
    }
   ],
   "source": [
    "globals()"
   ]
  }
 ],
 "metadata": {
  "kernelspec": {
   "display_name": "Python 3",
   "language": "python",
   "name": "python3"
  },
  "language_info": {
   "codemirror_mode": {
    "name": "ipython",
    "version": 3
   },
   "file_extension": ".py",
   "mimetype": "text/x-python",
   "name": "python",
   "nbconvert_exporter": "python",
   "pygments_lexer": "ipython3",
   "version": "3.10.10"
  },
  "orig_nbformat": 4
 },
 "nbformat": 4,
 "nbformat_minor": 2
}
