{
 "cells": [
  {
   "cell_type": "code",
   "execution_count": 37,
   "metadata": {},
   "outputs": [],
   "source": [
    "import subprocess\n",
    "# Start the Mosquitto broker\n",
    "mosquitto_process = subprocess.Popen([\"mosquitto\"])"
   ]
  },
  {
   "cell_type": "code",
   "execution_count": 38,
   "metadata": {},
   "outputs": [],
   "source": [
    "import paho.mqtt.client as mqtt\n",
    "\n",
    "# Connect to the broker\n",
    "client = mqtt.Client()\n",
    "client.connect(\"localhost\", 80)\n",
    "\n",
    "# Subscribe to the \"test\" topic\n",
    "client.subscribe(\"test\")\n",
    "\n",
    "# Publish a message to the \"test\" topic\n",
    "client.publish(\"test\", \"Hello, world!\")\n",
    "\n",
    "# Wait for messages\n",
    "def on_message(client, userdata, message):\n",
    "    print(message.topic + \" \" + str(message.payload))\n",
    "    \n",
    "client.on_message = on_message\n",
    "# client.loop_forever()"
   ]
  },
  {
   "cell_type": "code",
   "execution_count": 39,
   "metadata": {},
   "outputs": [],
   "source": [
    "import json\n",
    "\n",
    "def read_json_file(file_path):\n",
    "    with open(file_path, \"r\") as file:\n",
    "        data = json.load(file)\n",
    "    return data\n",
    "\n",
    "pydb = read_json_file(\"M_db.json\")\n",
    "settings = read_json_file(\"M_FLWC_settings.json\")"
   ]
  },
  {
   "cell_type": "code",
   "execution_count": 40,
   "metadata": {},
   "outputs": [],
   "source": [
    "def convert_pydb_to_jsdb(pydb):\n",
    "    flowchart_nodes = []\n",
    "    flowchart_edges = []\n",
    "\n",
    "    for state_name, state_info in pydb.items():\n",
    "        state_color = settings[\"FLOWCHART_COLOR_SCHEME\"][\"STANDARD_STATE\"][state_info[\"stateType\"]]\n",
    "        flowchart_nodes.append({\"key\": state_name, \"color\": state_color})\n",
    "        for next_state_id, next_state_name in state_info[\"nextState\"].items():\n",
    "            flowchart_edges.append({\"from\": state_name, \"to\": next_state_name})\n",
    "\n",
    "    return flowchart_nodes, flowchart_edges"
   ]
  },
  {
   "cell_type": "code",
   "execution_count": 41,
   "metadata": {},
   "outputs": [],
   "source": [
    "def convert_pydb_to_jsdb2(pydb):\n",
    "    flowchart_nodes = []\n",
    "    flowchart_edges = []\n",
    "\n",
    "    for state_name, state_info in pydb.items():\n",
    "        state_type = state_info[\"stateType\"]\n",
    "        flowchart_nodes.append({\"key\": state_name, \"type\": state_type, \"active\": False})\n",
    "        for next_state_id, next_state_name in state_info[\"nextState\"].items():\n",
    "            flowchart_edges.append({\"from\": state_name, \"to\": next_state_name})\n",
    "\n",
    "    return flowchart_nodes, flowchart_edges"
   ]
  },
  {
   "cell_type": "code",
   "execution_count": 42,
   "metadata": {},
   "outputs": [],
   "source": [
    "flowchart_nodes, flowchart_edges = convert_pydb_to_jsdb2(pydb)"
   ]
  },
  {
   "cell_type": "code",
   "execution_count": 43,
   "metadata": {},
   "outputs": [
    {
     "name": "stdout",
     "output_type": "stream",
     "text": [
      "[{'key': 'START', 'type': 'SCRIPT', 'active': False}, {'key': 'XPLORA_FIND_ARUCO_SHELF', 'type': 'XPLORA', 'active': False}, {'key': 'XPLOIT_MOVE_TOWARDS_SHELF', 'type': 'XPLOIT', 'active': False}, {'key': 'XPLORA_DETERMINE_SHELF_OCCUPANCY', 'type': 'XPLORA', 'active': False}, {'key': 'EVALUE_IS_OBJECTIVE_BOX_PRESENT', 'type': 'EVALUE', 'active': False}, {'key': 'XPLOIT_MOVE_TOWARDS_OBJECTIVE_BOX', 'type': 'XPLOIT', 'active': False}, {'key': 'XPLORA_OBJECTIVE_BOX_POSE_ESTIMATION', 'type': 'XPLORA', 'active': False}, {'key': 'XPLOIT_GRASP_OBJECTIVE_BOX', 'type': 'XPLOIT', 'active': False}, {'key': 'EVALUE_IS_SELF_STORAGE_AVAILABLE', 'type': 'EVALUE', 'active': False}, {'key': 'XPLOIT_PLACE_GRASPED_BOX_IN_SELFSTORAGE', 'type': 'XPLOIT', 'active': False}, {'key': 'XPLOIT_MOVE_TOWARDS_OBJECTIVE_AGV', 'type': 'XPLOIT', 'active': False}, {'key': 'XPLOIT_PLACE_GRASPED_BOX_ON_OBJECTIVE_AGV', 'type': 'XPLOIT', 'active': False}, {'key': 'EVALUE_IS_SELF_STORAGE_EMPTY', 'type': 'EVALUE', 'active': False}, {'key': 'XPLOIT_GRASP_BOX_FROM_SELFSTORAGE', 'type': 'XPLOIT', 'active': False}, {'key': 'END', 'type': 'SCRIPT', 'active': False}]\n"
     ]
    }
   ],
   "source": [
    "print(flowchart_nodes)"
   ]
  },
  {
   "cell_type": "code",
   "execution_count": 44,
   "metadata": {},
   "outputs": [
    {
     "name": "stdout",
     "output_type": "stream",
     "text": [
      "[{'from': 'START', 'to': 'XPLORA_FIND_ARUCO_SHELF'}, {'from': 'XPLORA_FIND_ARUCO_SHELF', 'to': 'XPLOIT_MOVE_TOWARDS_SHELF'}, {'from': 'XPLOIT_MOVE_TOWARDS_SHELF', 'to': 'XPLORA_DETERMINE_SHELF_OCCUPANCY'}, {'from': 'XPLORA_DETERMINE_SHELF_OCCUPANCY', 'to': 'EVALUE_IS_OBJECTIVE_BOX_PRESENT'}, {'from': 'EVALUE_IS_OBJECTIVE_BOX_PRESENT', 'to': 'END'}, {'from': 'EVALUE_IS_OBJECTIVE_BOX_PRESENT', 'to': 'XPLOIT_MOVE_TOWARDS_OBJECTIVE_BOX'}, {'from': 'XPLOIT_MOVE_TOWARDS_OBJECTIVE_BOX', 'to': 'XPLORA_OBJECTIVE_BOX_POSE_ESTIMATION'}, {'from': 'XPLORA_OBJECTIVE_BOX_POSE_ESTIMATION', 'to': 'XPLOIT_GRASP_OBJECTIVE_BOX'}, {'from': 'XPLOIT_GRASP_OBJECTIVE_BOX', 'to': 'EVALUE_IS_SELF_STORAGE_AVAILABLE'}, {'from': 'EVALUE_IS_SELF_STORAGE_AVAILABLE', 'to': 'XPLOIT_MOVE_TOWARDS_OBJECTIVE_AGV'}, {'from': 'EVALUE_IS_SELF_STORAGE_AVAILABLE', 'to': 'XPLOIT_PLACE_GRASPED_BOX_IN_SELFSTORAGE'}, {'from': 'XPLOIT_PLACE_GRASPED_BOX_IN_SELFSTORAGE', 'to': 'XPLORA_DETERMINE_SHELF_OCCUPANCY'}, {'from': 'XPLOIT_MOVE_TOWARDS_OBJECTIVE_AGV', 'to': 'XPLOIT_PLACE_GRASPED_BOX_ON_OBJECTIVE_AGV'}, {'from': 'XPLOIT_PLACE_GRASPED_BOX_ON_OBJECTIVE_AGV', 'to': 'EVALUE_IS_SELF_STORAGE_EMPTY'}, {'from': 'EVALUE_IS_SELF_STORAGE_EMPTY', 'to': 'XPLOIT_GRASP_BOX_FROM_SELFSTORAGE'}, {'from': 'EVALUE_IS_SELF_STORAGE_EMPTY', 'to': 'END'}, {'from': 'XPLOIT_GRASP_BOX_FROM_SELFSTORAGE', 'to': 'XPLOIT_PLACE_GRASPED_BOX_ON_OBJECTIVE_AGV'}, {'from': 'END', 'to': 'START'}]\n"
     ]
    }
   ],
   "source": [
    "print(flowchart_edges)"
   ]
  },
  {
   "cell_type": "code",
   "execution_count": 45,
   "metadata": {},
   "outputs": [
    {
     "data": {
      "text/plain": [
       "<paho.mqtt.client.MQTTMessageInfo at 0x19f05bcf150>"
      ]
     },
     "execution_count": 45,
     "metadata": {},
     "output_type": "execute_result"
    }
   ],
   "source": [
    "# Publish a message to the \"test\" topic\n",
    "client.publish(\"test\", \"Hello, world!\")"
   ]
  },
  {
   "cell_type": "code",
   "execution_count": 46,
   "metadata": {},
   "outputs": [
    {
     "data": {
      "text/plain": [
       "<paho.mqtt.client.MQTTMessageInfo at 0x19f05b97100>"
      ]
     },
     "execution_count": 46,
     "metadata": {},
     "output_type": "execute_result"
    }
   ],
   "source": [
    "message = json.dumps(flowchart_edges)\n",
    "# Publish the string\n",
    "client.publish(\"test\", message)"
   ]
  },
  {
   "cell_type": "code",
   "execution_count": 47,
   "metadata": {},
   "outputs": [
    {
     "data": {
      "text/plain": [
       "<paho.mqtt.client.MQTTMessageInfo at 0x19f05bb40e0>"
      ]
     },
     "execution_count": 47,
     "metadata": {},
     "output_type": "execute_result"
    }
   ],
   "source": [
    "client.subscribe(\"test\")\n",
    "client.publish(\"test\", message)"
   ]
  },
  {
   "cell_type": "code",
   "execution_count": 48,
   "metadata": {},
   "outputs": [],
   "source": [
    "# client.disconnect()"
   ]
  }
 ],
 "metadata": {
  "kernelspec": {
   "display_name": ".venv",
   "language": "python",
   "name": "python3"
  },
  "language_info": {
   "codemirror_mode": {
    "name": "ipython",
    "version": 3
   },
   "file_extension": ".py",
   "mimetype": "text/x-python",
   "name": "python",
   "nbconvert_exporter": "python",
   "pygments_lexer": "ipython3",
   "version": "3.10.10"
  },
  "orig_nbformat": 4
 },
 "nbformat": 4,
 "nbformat_minor": 2
}
